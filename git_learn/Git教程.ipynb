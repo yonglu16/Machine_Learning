{
 "cells": [
  {
   "cell_type": "markdown",
   "metadata": {},
   "source": [
    "\n",
    "# Git 教程\n",
    "## 什么是Git\n",
    "\n",
    "Git是一种分布式版本控制系统。2005年大神Linus花了两周时间用C谢了一个分布式版本控制系统，这就是Git. 2008年，Github网站上线，它为开源项目免费提供Git存储。"
   ]
  },
  {
   "cell_type": "markdown",
   "metadata": {},
   "source": [
    "##  版本库的创建\n",
    "    \n",
    "    mkdir learngit   %创建目录\n",
    "    cd learngit     %\n",
    "    git init   %初始化\n",
    "\n",
    "## 把文件添加到版本库\n",
    "    git add readme.txt   %把文件添加到仓库\n",
    "    git commit -m \"wrote a readme file\"   % 提交到仓库，-m后面是本次提交的说明\n",
    "Git也可以一次添加(add)多个文件，文件名之间用空格隔开就行\n",
    "    "
   ]
  },
  {
   "cell_type": "markdown",
   "metadata": {},
   "source": [
    "##  远程仓库Github\n",
    "\n",
    "### 从远程仓库克隆\n",
    "    git clone git@github.com:****\n",
    "### 向远程仓库提交\n",
    "    git push origin master  %把本地master分之的最新修改推送至github"
   ]
  },
  {
   "cell_type": "code",
   "execution_count": null,
   "metadata": {
    "collapsed": true
   },
   "outputs": [],
   "source": []
  }
 ],
 "metadata": {
  "kernelspec": {
   "display_name": "Python [conda env:anaconda2]",
   "language": "python",
   "name": "conda-env-anaconda2-py"
  },
  "language_info": {
   "codemirror_mode": {
    "name": "ipython",
    "version": 2
   },
   "file_extension": ".py",
   "mimetype": "text/x-python",
   "name": "python",
   "nbconvert_exporter": "python",
   "pygments_lexer": "ipython2",
   "version": "2.7.12"
  },
  "toc": {
   "base_numbering": 1,
   "nav_menu": {},
   "number_sections": true,
   "sideBar": true,
   "skip_h1_title": false,
   "title_cell": "Table of Contents",
   "title_sidebar": "Contents",
   "toc_cell": false,
   "toc_position": {},
   "toc_section_display": true,
   "toc_window_display": true
  }
 },
 "nbformat": 4,
 "nbformat_minor": 2
}
